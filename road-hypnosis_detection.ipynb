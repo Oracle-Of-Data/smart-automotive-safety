{
  "cells": [
    {
      "cell_type": "code",
      "execution_count": null,
      "metadata": {
        "id": "r_gHZ5F_HmaD"
      },
      "outputs": [],
      "source": [
        "import cv2\n",
        "from google.colab.patches import cv2_imshow\n"
      ]
    },
    {
      "cell_type": "code",
      "execution_count": null,
      "metadata": {
        "colab": {
          "base_uri": "https://localhost:8080/"
        },
        "id": "77f-9Gh3H8O3",
        "outputId": "a26870ca-1970-45d9-a783-1e2da08c6819"
      },
      "outputs": [],
      "source": [
        "# Download the Haar Cascade for eye detection\n",
        "!wget https://raw.githubusercontent.com/opencv/opencv/master/data/haarcascades/haarcascade_eye.xml\n",
        "\n"
      ]
    },
    {
      "cell_type": "code",
      "execution_count": null,
      "metadata": {
        "id": "OW-cKaeOH8XP"
      },
      "outputs": [],
      "source": [
        "# Load the Haar Cascade for eye detection\n",
        "eye_cascade = cv2.CascadeClassifier('haarcascade_eye.xml')\n"
      ]
    },
    {
      "cell_type": "code",
      "execution_count": null,
      "metadata": {
        "id": "QWG7kn3eH8bP"
      },
      "outputs": [],
      "source": [
        "# Function to detect blinks\n",
        "def detect_blink(frame):\n",
        "    gray = cv2.cvtColor(frame, cv2.COLOR_BGR2GRAY)\n",
        "\n",
        "    # Detect eyes using Haar Cascade\n",
        "    eyes = eye_cascade.detectMultiScale(gray, scaleFactor=1.1, minNeighbors=5, minSize=(30, 30))\n",
        "\n",
        "    # Check if at least one pair of eyes is detected\n",
        "    return len(eyes) >= 2\n",
        "\n"
      ]
    },
    {
      "cell_type": "code",
      "execution_count": null,
      "metadata": {
        "colab": {
          "base_uri": "https://localhost:8080/",
          "height": 73
        },
        "id": "nMxpycLBH8e3",
        "outputId": "d63f58c2-052a-4b40-9ac9-d4df57d11798"
      },
      "outputs": [],
      "source": [
        "# Open the video file (upload the video to Google Colab first)\n",
        "from google.colab import files\n",
        "uploaded = files.upload()\n",
        "\n"
      ]
    },
    {
      "cell_type": "code",
      "execution_count": null,
      "metadata": {
        "id": "W6OK43y1H8h_"
      },
      "outputs": [],
      "source": [
        "# Assuming you uploaded a video file named 'blink_video.mp4'\n",
        "video_path = list(uploaded.keys())[0]\n"
      ]
    },
    {
      "cell_type": "code",
      "execution_count": null,
      "metadata": {
        "id": "qKKIkE21IN-v"
      },
      "outputs": [],
      "source": [
        "\n",
        "# Start video capture\n",
        "vs = cv2.VideoCapture(video_path)\n"
      ]
    },
    {
      "cell_type": "code",
      "execution_count": null,
      "metadata": {
        "id": "0Nqhlo5HIS7f"
      },
      "outputs": [],
      "source": [
        "# Variables for blink rate calculation\n",
        "total_frames = int(vs.get(cv2.CAP_PROP_FRAME_COUNT))\n",
        "blink_count = 0\n"
      ]
    },
    {
      "cell_type": "code",
      "execution_count": null,
      "metadata": {
        "colab": {
          "base_uri": "https://localhost:8080/",
          "height": 1000
        },
        "id": "8V7F7m3EIS-3",
        "outputId": "0338558a-9a1b-47f9-ca3c-b089e5207a1f"
      },
      "outputs": [],
      "source": [
        "from google.colab.patches import cv2_imshow\n",
        "import matplotlib.pyplot as plt\n",
        "\n",
        "while True:\n",
        "    success, frame = vs.read()\n",
        "\n",
        "    if not success:\n",
        "        break\n",
        "\n",
        "    if detect_blink(frame):\n",
        "        blink_count += 1\n",
        "        cv2.putText(frame, \"Blink Detected!\", (50, 50), cv2.FONT_HERSHEY_SIMPLEX, 1, (0, 255, 0), 2)\n",
        "\n",
        "    # Display the frame using matplotlib\n",
        "    plt.imshow(cv2.cvtColor(frame, cv2.COLOR_BGR2RGB))\n",
        "    plt.title(\"Frame\")\n",
        "    plt.show()\n",
        "\n",
        "    key = cv2.waitKey(1) & 0xFF\n",
        "    if key == ord(\"q\"):\n",
        "        break\n"
      ]
    },
    {
      "cell_type": "code",
      "execution_count": null,
      "metadata": {
        "id": "dXbvmnquITB2"
      },
      "outputs": [],
      "source": [
        "# Calculate blink rate\n",
        "blink_rate = blink_count / total_frames\n"
      ]
    },
    {
      "cell_type": "code",
      "execution_count": null,
      "metadata": {
        "colab": {
          "base_uri": "https://localhost:8080/"
        },
        "id": "Lt7sPWYTIhYG",
        "outputId": "68384397-75a7-4f9d-96cf-6afe4c4bd4ba"
      },
      "outputs": [],
      "source": [
        "print(f\"Total blinks: {blink_count}\")\n",
        "print(f\"Blink rate: {blink_rate:.2f} blinks per frame\")\n"
      ]
    },
    {
      "cell_type": "code",
      "execution_count": null,
      "metadata": {
        "id": "w71S8YHMIhbH"
      },
      "outputs": [],
      "source": [
        "cv2.destroyAllWindows()\n",
        "vs.release()\n"
      ]
    },
    {
      "cell_type": "code",
      "execution_count": null,
      "metadata": {
        "colab": {
          "base_uri": "https://localhost:8080/"
        },
        "id": "z9X9-5rdIhe4",
        "outputId": "280f35a5-b58a-4d8c-8e83-fe959f576251"
      },
      "outputs": [],
      "source": [
        "print (\"total_frames\")"
      ]
    },
    {
      "cell_type": "code",
      "execution_count": null,
      "metadata": {
        "colab": {
          "base_uri": "https://localhost:8080/"
        },
        "id": "ehrIOzP7Lx-z",
        "outputId": "c88d911e-01a9-4fc8-f7e3-9030b0284399"
      },
      "outputs": [],
      "source": [
        "!pip install playsound"
      ]
    },
    {
      "cell_type": "code",
      "execution_count": null,
      "metadata": {
        "colab": {
          "base_uri": "https://localhost:8080/"
        },
        "id": "se-VCandLspP",
        "outputId": "09ebc762-16dd-4323-a14a-d064182677cc"
      },
      "outputs": [],
      "source": [
        "from playsound import playsound"
      ]
    },
    {
      "cell_type": "code",
      "execution_count": null,
      "metadata": {
        "colab": {
          "base_uri": "https://localhost:8080/"
        },
        "id": "ssnGgduPKfsP",
        "outputId": "18d5e2cd-32c3-4a90-9944-10c1395a8f20"
      },
      "outputs": [],
      "source": [
        "from IPython.display import Audio, display\n",
        "import time\n",
        "\n",
        "def play_alert_sound(sound_file_path):\n",
        "    display(Audio(filename=sound_file_path, autoplay=True))\n",
        "\n",
        "blink_rate = 0  # Replace with the actual calculation of blink_rate\n",
        "\n",
        "if blink_rate <0.4:\n",
        "    print(\"not trance\")\n",
        "else:\n",
        "    print(\"trance state. You are in hypnosis state\")\n",
        "\n",
        "    # Example: Play the alert sound\n",
        "    sound_file_path = '/content/alert_sound.mp3'  # Replace with your sound file path\n",
        "    play_alert_sound(sound_file_path)\n"
      ]
    }
  ],
  "metadata": {
    "accelerator": "GPU",
    "colab": {
      "gpuType": "T4",
      "provenance": []
    },
    "kernelspec": {
      "display_name": "Python 3",
      "name": "python3"
    },
    "language_info": {
      "name": "python"
    }
  },
  "nbformat": 4,
  "nbformat_minor": 0
}
